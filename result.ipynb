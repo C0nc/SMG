{
 "cells": [
  {
   "cell_type": "code",
   "execution_count": 18,
   "metadata": {},
   "outputs": [
    {
     "name": "stdout",
     "output_type": "stream",
     "text": [
      "64\n"
     ]
    }
   ],
   "source": [
    "import pandas as pd \n",
    "import networkx as nx\n",
    "import dgl\n",
    "import torch\n",
    "from sklearn import model_selection\n",
    "import numpy as np\n",
    "import pickle\n",
    "import h5py\n",
    "\n",
    "\n",
    "Dataset = ['CPDB', 'IRefIndex', 'PCNet', 'IRefIndex_2015', 'STRINGdb', 'Multinet']\n",
    "\n",
    "def get_health(dataset=0):\n",
    "    k = pd.read_csv('/data/guest/GraphMAE/graphmae/datasets/health.tsv', sep='\\t').astype(str)\n",
    "    f = h5py.File('/data/guest/GraphMAE/graphmae/datasets/EMOGI_{}/{}_multiomics.h5'.format(dataset, dataset), 'r') \n",
    "    positive = k['symbol'].unique()\n",
    "    name = [x.decode() for x in list(f['gene_names'][:][..., 1])]\n",
    "    mask_test = f['mask_test'][:]\n",
    "    mask_train = f['mask_train'][:]\n",
    "    y_train = f['y_train'][:]\n",
    "    positive_mask_test = np.nonzero(mask_test == True)[0]\n",
    "    positive_mask_train = np.nonzero(mask_test == True)[0]\n",
    "    neg_mask_train = []\n",
    "    neg_mask_test = []\n",
    "    for gene in positive[:60]:\n",
    "        try: \n",
    "            i = name.index(gene)\n",
    "            neg_mask_train.append(i)\n",
    "        except ValueError:\n",
    "            pass\n",
    "    for gene in positive[60:]:\n",
    "        try: \n",
    "            i = name.index(gene)\n",
    "            neg_mask_test.append(i)\n",
    "        except ValueError:\n",
    "            pass\n",
    "    pos_mask_test = positive_mask_test[:60]\n",
    "    pos_mask_train = positive_mask_train[:120]\n",
    "    t_mask = list(set(pos_mask_train) | set(neg_mask_train))\n",
    "    train_mask = np.zeros_like(mask_train)\n",
    "    test_mask = np.zeros_like(mask_test)\n",
    "    te_mask = list(set(pos_mask_test) | set(neg_mask_test))\n",
    "    train_mask[t_mask] = True\n",
    "    test_mask[te_mask] = True\n",
    "    print(len(t_mask), len(te_mask))\n",
    "    y = np.zeros_like(y_train)\n",
    "    for i in neg_mask_train:\n",
    "        y[i] = True\n",
    "    for i in neg_mask_test:\n",
    "        y[i] = True\n",
    "    src, dst = np.nonzero(f['network'][:])\n",
    "    graph = dgl.graph((src, dst))\n",
    "    graph.ndata['feat'] = torch.from_numpy(f['features'][:])   \n",
    "    graph.ndata['train_mask'] = torch.from_numpy(train_mask)\n",
    "    graph.ndata['val_mask'] = torch.from_numpy(test_mask)\n",
    "    graph.ndata['test_mask'] = torch.from_numpy(test_mask)\n",
    "    graph.ndata['label'] = torch.from_numpy(y).float()\n",
    "    return graph, (graph.ndata[\"feat\"].shape[1], 2)\n",
    "\n",
    "\n",
    "def get_ppi(dataset=0, essential_gene=False, health_gene=False):\n",
    "    dataset = Dataset[dataset]\n",
    "    if health_gene:\n",
    "        return get_health(dataset)\n",
    "    elif essential_gene:\n",
    "        f = h5py.File('/data/guest/GraphMAE/graphmae/essential_gene/{}_essential_test01_multiomics.h5'.format(dataset), 'r')\n",
    "    else:\n",
    "        f = h5py.File('/data/guest/GraphMAE/graphmae/datasets/EMOGI_{}/{}_multiomics.h5'.format(dataset, dataset), 'r') \n",
    "    src, dst = np.nonzero(f['network'][:])\n",
    "    graph = dgl.graph((src, dst))\n",
    "    #datas = torch.load(\"/data/guest/MTGCN/data/str_fearures.pkl\").to(\"cpu\")\n",
    "    graph.ndata['feat'] = torch.from_numpy(f['features'][:])\n",
    "    graph.ndata['train_mask'] = torch.from_numpy(f['mask_train'][:])\n",
    "    graph.ndata['val_mask'] = torch.from_numpy(f['mask_test'][:])\n",
    "    graph.ndata['test_mask'] = torch.from_numpy(f['mask_test'][:])\n",
    "    graph.ndata['label'] = torch.from_numpy(np.logical_or(np.logical_or(f['y_test'][:], f['y_val'][:]), f['y_train'][:])).float()\n",
    "    return graph, (graph.ndata[\"feat\"].shape[1], 2)\n",
    "\n",
    "x, _ = get_ppi()"
   ]
  },
  {
   "cell_type": "code",
   "execution_count": 15,
   "metadata": {},
   "outputs": [
    {
     "data": {
      "text/plain": [
       "Graph(num_nodes=2013, num_edges=14330,\n",
       "      ndata_schemes={'feat': Scheme(shape=(64,), dtype=torch.float64), 'train_mask': Scheme(shape=(), dtype=torch.bool), 'val_mask': Scheme(shape=(), dtype=torch.bool), 'test_mask': Scheme(shape=(), dtype=torch.bool), 'label': Scheme(shape=(1,), dtype=torch.float32), '_ID': Scheme(shape=(), dtype=torch.int64)}\n",
       "      edata_schemes={'_ID': Scheme(shape=(), dtype=torch.int64)})"
      ]
     },
     "execution_count": 15,
     "metadata": {},
     "output_type": "execute_result"
    }
   ],
   "source": [
    "x.subgraph(x.nodes()[x.ndata['train_mask']])"
   ]
  }
 ],
 "metadata": {
  "kernelspec": {
   "display_name": "Python 3.10.6 ('dgl')",
   "language": "python",
   "name": "python3"
  },
  "language_info": {
   "codemirror_mode": {
    "name": "ipython",
    "version": 3
   },
   "file_extension": ".py",
   "mimetype": "text/x-python",
   "name": "python",
   "nbconvert_exporter": "python",
   "pygments_lexer": "ipython3",
   "version": "3.10.6"
  },
  "orig_nbformat": 4,
  "vscode": {
   "interpreter": {
    "hash": "602ea96c5e0845a56939010e352f10866601fd20eb8c77e0c28935931319f4ff"
   }
  }
 },
 "nbformat": 4,
 "nbformat_minor": 2
}
